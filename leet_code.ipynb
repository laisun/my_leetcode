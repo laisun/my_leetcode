{
 "cells": [
  {
   "cell_type": "code",
   "execution_count": 115,
   "metadata": {},
   "outputs": [
    {
     "name": "stdout",
     "output_type": "stream",
     "text": [
      "True\n",
      "1\n",
      "2\n",
      "3\n",
      "4\n",
      "5\n",
      "6\n",
      "7\n",
      "8\n",
      "8\n",
      "7\n",
      "6\n",
      "5\n",
      "4\n",
      "3\n",
      "2\n",
      "1\n"
     ]
    }
   ],
   "source": [
    "# 题目描述\n",
    "# 判断给定的链表中是否有环。如果有环则返回true，否则返回false。\n",
    "class ListNode:\n",
    "    def __init__(self, x):\n",
    "        self.val = x\n",
    "        self.next = None\n",
    "\n",
    "# \n",
    "# @param head ListNode类 \n",
    "# @return bool布尔型\n",
    "#\n",
    "class Solution:\n",
    "    def hasCycle(self , head ):\n",
    "        # write code here\n",
    "        if not head or not head.next:\n",
    "            return False\n",
    "\n",
    "        pSlow, pFast = head, head.next\n",
    "        while pSlow and pFast and pFast != pSlow:\n",
    "            pSlow = pSlow.next if pSlow.next else None\n",
    "            pFast = pFast.next.next if pFast.next and pFast.next.next else None\n",
    "        \n",
    "        if not pFast or not pSlow:\n",
    "            return False\n",
    "        \n",
    "        return True\n",
    "            \n",
    "            \n",
    "        \n",
    "def gen_list_nodes(data_li):\n",
    "    if not data_li:\n",
    "        return None\n",
    "\n",
    "    head = ListNode(data_li[0])\n",
    "    p = head\n",
    "    tail = p\n",
    "    for i in range(1, len(data_li)):\n",
    "        p.next = ListNode(data_li[i])\n",
    "        tail = p.next\n",
    "        p = p.next\n",
    "\n",
    "    if head.next:\n",
    "        tail.next = head.next.next\n",
    "\n",
    "    return head\n",
    "\n",
    "\n",
    "data_li = [1,2,3,4,5,6,7,8]\n",
    "head = gen_list_nodes(data_li)\n",
    "\n",
    "S = Solution()\n",
    "print(S.hasCycle(head))\n",
    "        \n",
    "\n",
    "# 链表原地反转\n",
    "def gen_list_nodes2(data_li):\n",
    "    if not data_li:\n",
    "        return None\n",
    "\n",
    "    head = ListNode(data_li[0])\n",
    "    p = head\n",
    "    for i in range(1, len(data_li)):\n",
    "        p.next = ListNode(data_li[i])\n",
    "        p = p.next\n",
    "    return head\n",
    "\n",
    "def print_linked_list(head):\n",
    "    p = head\n",
    "    while p:\n",
    "        print(p.val)\n",
    "        p = p.next\n",
    "\n",
    "data_li = [1,2,3,4,5,6,7,8]\n",
    "head = gen_list_nodes2(data_li)\n",
    "print_linked_list(head)\n",
    "\n",
    "def reverse_linked_list(head):\n",
    "    pre = None\n",
    "    cur = head\n",
    "    while cur:\n",
    "        tmp = cur.next\n",
    "        cur.next = pre\n",
    "        pre = cur\n",
    "        cur = tmp\n",
    "    return pre\n",
    "\n",
    "head = reverse_linked_list(head)\n",
    "print_linked_list(head)"
   ]
  },
  {
   "cell_type": "code",
   "execution_count": 44,
   "metadata": {},
   "outputs": [
    {
     "name": "stdout",
     "output_type": "stream",
     "text": [
      "3\n"
     ]
    }
   ],
   "source": [
    "# 题目描述\n",
    "# 给定一个数组arr，返回arr的最长无的重复子串的长度(无重复指的是所有数字都不相同)。\n",
    "class Solution:\n",
    "    def maxLength(self , arr ):\n",
    "        # write code here\n",
    "        dp = {i:-1 for i in range(int(10e6))}\n",
    "        front = 0\n",
    "        max_len = 0\n",
    "        for i in range(0, len(arr)):\n",
    "            if dp[arr[i]] > -1 and dp[arr[i]] >= front:\n",
    "                front = dp[arr[i]] + 1\n",
    "            dp[arr[i]] = i\n",
    "            \n",
    "            max_len = max(max_len, i - front + 1)\n",
    "        return max_len\n",
    "            \n",
    "\n",
    "data_li = [2,2,3,4,3]\n",
    "\n",
    "S = Solution()\n",
    "print(S.maxLength(data_li))"
   ]
  },
  {
   "cell_type": "code",
   "execution_count": 63,
   "metadata": {},
   "outputs": [
    {
     "name": "stdout",
     "output_type": "stream",
     "text": [
      "5\n"
     ]
    }
   ],
   "source": [
    "# 题目描述\n",
    "# 一只青蛙一次可以跳上1级台阶，也可以跳上2级。求该青蛙跳上一个n级的台阶总共有多少种跳法（先后次序不同算不同的结果）。\n",
    "class Solution:\n",
    "    def jumpFloor(self, number):\n",
    "        jump = [0] * (number+3)\n",
    "        jump[0] = 0\n",
    "        jump[1] = 1\n",
    "        jump[2] = 2\n",
    "        if number < 3:\n",
    "            return jump[number]\n",
    "        for i in range(3, number+1):\n",
    "            jump[i] = jump[i-1] + jump[i-2]\n",
    "        return jump[number]\n",
    "    \n",
    "    \n",
    "\n",
    "S = Solution()\n",
    "print(S.jumpFloor(4))"
   ]
  },
  {
   "cell_type": "code",
   "execution_count": 66,
   "metadata": {},
   "outputs": [
    {
     "name": "stdout",
     "output_type": "stream",
     "text": [
      "7\n"
     ]
    }
   ],
   "source": [
    "# 题目描述\n",
    "# 输入一个整型数组，数组里有正数也有负数。数组中的一个或连续多个整数组成一个子数组。求所有子数组的和的最大值。\n",
    "# 要求时间复杂度为 O(n).\n",
    "\n",
    "# -*- coding:utf-8 -*-\n",
    "class Solution:\n",
    "    def FindGreatestSumOfSubArray(self, array):\n",
    "        # write code here\n",
    "        # dp[i]表示以元素array[i]结尾的最大连续子数组和.\n",
    "        dp = [0] * len(array)\n",
    "        dp[0] = array[0]\n",
    "        max_sum = array[0]\n",
    "        for i in range(1, len(array)):\n",
    "            dp[i] = max(array[i], dp[i-1]+array[i])\n",
    "            if dp[i] > max_sum:\n",
    "                max_sum = dp[i]\n",
    "        return max_sum\n",
    "        \n",
    "        \n",
    "data_li = [-2,2,-3,4,3]\n",
    "\n",
    "S = Solution()\n",
    "print(S.FindGreatestSumOfSubArray(data_li))\n"
   ]
  },
  {
   "cell_type": "code",
   "execution_count": 70,
   "metadata": {},
   "outputs": [
    {
     "name": "stdout",
     "output_type": "stream",
     "text": [
      "[2, 4]\n"
     ]
    }
   ],
   "source": [
    "# 题目描述\n",
    "# 给出一个整数数组，请在数组中找出两个加起来等于目标值的数，\n",
    "# 你给出的函数twoSum 需要返回这两个数字的下标（index1，index2），需要满足 index1 小于index2.。注意：下标是从1开始的\n",
    "# 假设给出的数组中只存在唯一解\n",
    "class Solution:\n",
    "    def twoSum(self , numbers , target ):\n",
    "        # write code here\n",
    "        nums = [target-i for i in numbers]\n",
    "        for i in range(0, len(nums)):\n",
    "            index1 = i\n",
    "            try:\n",
    "                index2 = numbers.index(nums[i],i+1)\n",
    "                if index2 > 0 and index2 > index1:\n",
    "                    return [index1+1, index2+1]\n",
    "            except:\n",
    "                pass\n",
    "        return [-1,-1]\n",
    "    \n",
    "data_li = [-2,2,-3,4,9]\n",
    "\n",
    "S = Solution()\n",
    "print(S.twoSum(data_li, 6))\n",
    "        "
   ]
  },
  {
   "cell_type": "code",
   "execution_count": 120,
   "metadata": {},
   "outputs": [
    {
     "name": "stdout",
     "output_type": "stream",
     "text": [
      "3\n"
     ]
    }
   ],
   "source": [
    "# 题目描述\n",
    "# 假设你有一个数组，其中第 i 个元素是股票在第 i 天的价格。\n",
    "# 你有一次买入和卖出的机会。（只有买入了股票以后才能卖出）。请你设计一个算法来计算可以获得的最大收益。\n",
    "class Solution:\n",
    "    def maxProfit(self , prices ):\n",
    "        # write code here\n",
    "        # min_price[i] 表示第i天卖出, 之前的最低价格\n",
    "        max_profit = 0\n",
    "        min_price = [0] * len(prices)\n",
    "        min_price[0] = prices[0]\n",
    "        for i in range(1, len(prices)):\n",
    "            max_profit = max(max_profit, prices[i] - min_price[i-1])\n",
    "            min_price[i] = min(prices[i], min_price[i-1])\n",
    "        return max_profit\n",
    "        \n",
    "prices = [1,4,2]\n",
    "S = Solution()\n",
    "print(S.maxProfit(prices))"
   ]
  },
  {
   "cell_type": "code",
   "execution_count": 94,
   "metadata": {},
   "outputs": [
    {
     "name": "stdout",
     "output_type": "stream",
     "text": [
      "1 3 2\n",
      "2\n"
     ]
    }
   ],
   "source": [
    "# 题目描述\n",
    "# 给定一个整形数组arr，已知其中所有的值都是非负的，将这个数组看作一个容器，请返回容器能装多少水。\n",
    "# 具体请参考样例解释\n",
    "class Solution:\n",
    "    def maxWater(self , arr ):\n",
    "        # write code here\n",
    "        def area(arr, i, j):\n",
    "            m = min(arr[i], arr[j])\n",
    "            f = m * (j-i-1)\n",
    "            for k in range(i+1, j):\n",
    "                f -= arr[k]\n",
    "            return f\n",
    "            \n",
    "            \n",
    "        \n",
    "        arr.append(arr[len(arr)-1])\n",
    "        water_area = 0\n",
    "        left = 0\n",
    "        find_left = False\n",
    "        find_right = False\n",
    "        right = -1\n",
    "        mid_min = -1\n",
    "        for i in range(1, len(arr)):\n",
    "            if arr[i] > arr[left] and not find_left:\n",
    "                left = i\n",
    "                continue\n",
    "    \n",
    "            if arr[i] < arr[left]:\n",
    "                find_left = True\n",
    "                mid_min = min(arr[i], mid_min)\n",
    "                \n",
    "            if find_left and arr[i] > mid_min and arr[i] > arr[i-1] and arr[i] >= arr[i+1]:\n",
    "                right = i\n",
    "                find_right = True\n",
    "                \n",
    "            if find_left and find_right:\n",
    "                print(left, right, area(arr, left, right))\n",
    "                water_area += area(arr, left, right)\n",
    "                left = right\n",
    "                find_left = False\n",
    "                find_right = False\n",
    "                mid_min = -1\n",
    "            \n",
    "        return water_area\n",
    "            \n",
    "                \n",
    " \n",
    "arr = [4,5,1,3,2]\n",
    "S = Solution()\n",
    "print(S.maxWater(arr))"
   ]
  },
  {
   "cell_type": "code",
   "execution_count": 121,
   "metadata": {},
   "outputs": [
    {
     "name": "stdout",
     "output_type": "stream",
     "text": [
      "{0: 3}\n",
      "[[0, 0, 0], [0, 0, 0], [0, 0, 0]]\n"
     ]
    }
   ],
   "source": [
    "class Solution:\n",
    "    def threeSum(self , num ):\n",
    "        # write code here\n",
    "        num.sort()\n",
    "        pos_m = {}\n",
    "        for i in range(len(num)):\n",
    "            pos_m[num[i]] = i\n",
    "        print(pos_m)\n",
    "            \n",
    "        S = []   \n",
    "        for i in range(len(num)):\n",
    "            for j in range(i+1,len(num)):\n",
    "                m = -1*(num[i]+num[j])\n",
    "                if m in pos_m and pos_m[m] != i and pos_m[m] != j and pos_m[m] > i and pos_m[m]>j:\n",
    "                    S.append([num[i], num[j], num[pos_m[m]]])\n",
    "        return S\n",
    "    \n",
    "arr = [0,0,0,0]\n",
    "\n",
    "S = Solution()\n",
    "print(S.threeSum(arr))      "
   ]
  },
  {
   "cell_type": "code",
   "execution_count": 131,
   "metadata": {},
   "outputs": [
    {
     "name": "stdout",
     "output_type": "stream",
     "text": [
      "11\n"
     ]
    }
   ],
   "source": [
    "class Solution:\n",
    "    def numbers(self , a , b , c , d , p ):\n",
    "        # write code here\n",
    "        def ceiling(a, p):\n",
    "            return int(a/p) if a % p == 0 else (int(a/p) + 1)\n",
    "        \n",
    "        def floor(a, p):\n",
    "            return int(a/p) \n",
    "        \n",
    "        new_a = ceiling(a, p)\n",
    "        new_b = floor(b, p)\n",
    "        new_c = ceiling(c, p)\n",
    "        new_d = floor(d, p)\n",
    "        \n",
    "        total = 0\n",
    "        s1 = len(set([new_a, new_b]))\n",
    "        s2 = len(set([new_c, new_d]))\n",
    "        total = s1 * (d-c+1)\n",
    "        total += s2 * (b-a+1)\n",
    "            \n",
    "        return total\n",
    "    \n",
    "S = Solution()\n",
    "print(S.numbers(3,7,4,6,3))"
   ]
  },
  {
   "cell_type": "code",
   "execution_count": null,
   "metadata": {},
   "outputs": [],
   "source": []
  }
 ],
 "metadata": {
  "kernelspec": {
   "display_name": "Python 3",
   "language": "python",
   "name": "python3"
  },
  "language_info": {
   "codemirror_mode": {
    "name": "ipython",
    "version": 3
   },
   "file_extension": ".py",
   "mimetype": "text/x-python",
   "name": "python",
   "nbconvert_exporter": "python",
   "pygments_lexer": "ipython3",
   "version": "3.6.5"
  }
 },
 "nbformat": 4,
 "nbformat_minor": 2
}
