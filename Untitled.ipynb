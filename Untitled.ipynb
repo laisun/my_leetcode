{
 "cells": [
  {
   "cell_type": "code",
   "execution_count": 2,
   "metadata": {},
   "outputs": [
    {
     "name": "stdout",
     "output_type": "stream",
     "text": [
      "OK!\n"
     ]
    }
   ],
   "source": [
    "import os,sys\n",
    "import math\n",
    "print(\"OK!\")"
   ]
  },
  {
   "cell_type": "code",
   "execution_count": 6,
   "metadata": {},
   "outputs": [
    {
     "data": {
      "text/plain": [
       "'98353363333010'"
      ]
     },
     "execution_count": 6,
     "metadata": {},
     "output_type": "execute_result"
    }
   ],
   "source": [
    "import sys \n",
    "\n",
    "class LargerNumKey(str):\n",
    "    def __lt__(x, y):\n",
    "        return x+y > y+x\n",
    "    \n",
    "class Solution:\n",
    "    def largestNumber(self, nums):\n",
    "        largest_num = ''.join(sorted(map(str, nums), key=LargerNumKey))\n",
    "        return '0' if largest_num[0] == '0' else largest_num\n",
    "\n",
    "S = Solution()\n",
    "S.largestNumber([33, 36, 1, 0, 53, 983, 3, 30])"
   ]
  },
  {
   "cell_type": "code",
   "execution_count": 19,
   "metadata": {},
   "outputs": [
    {
     "name": "stdout",
     "output_type": "stream",
     "text": [
      "[2, 4, 3]\n",
      "[9, 9, 9]\n",
      "[1, 4, 3, 1]\n",
      "[9, 9, 9, 9, 9, 9, 9]\n",
      "[9, 9, 9, 9]\n",
      "[8, 9, 9, 9, 0, 0, 0, 1]\n"
     ]
    }
   ],
   "source": [
    "class ListNode(object):\n",
    "    def __init__(self, val=0, next=None):\n",
    "        self.val = val\n",
    "        self.next = next\n",
    "\n",
    "def getListNode(data):\n",
    "    head, p = None, None\n",
    "    for d in data:\n",
    "        if not p:\n",
    "            p = ListNode(d)\n",
    "            head = p\n",
    "        else:\n",
    "            p.next = ListNode(d)\n",
    "            p = p.next\n",
    "    return head\n",
    " \n",
    "def printListNode(l):\n",
    "    p = l\n",
    "    li = []\n",
    "    while p:\n",
    "        li.append(p.val)\n",
    "        p = p.next\n",
    "    return li\n",
    "\n",
    "class Solution(object):\n",
    "    def addTwoNumbers(self, l1, l2):\n",
    "        \"\"\"\n",
    "        :type l1: ListNode\n",
    "        :type l2: ListNode\n",
    "        :rtype: ListNode\n",
    "        \"\"\"\n",
    "\n",
    "        def add(n1, n2, m1=0):\n",
    "            return int((n1+n2+m1) / 10), (n1+n2+m1) % 10\n",
    "\n",
    "        if l1 and not l2:\n",
    "            return l1\n",
    "        if not l1 and l2:\n",
    "            return l2\n",
    "\n",
    "        p1 = l1\n",
    "        p2 = l2\n",
    "        head, p = None, None\n",
    "        m1, m2 = 0, 0\n",
    "        while p1 and p2:\n",
    "            m1, m2 = add(p1.val, p2.val, m1)\n",
    "            if not p:\n",
    "                p = ListNode(m2)\n",
    "                head = p\n",
    "            else:\n",
    "                p.next = ListNode(m2)\n",
    "                p = p.next\n",
    "            \n",
    "            p1 = p1.next\n",
    "            p2 = p2.next\n",
    "\n",
    "        if not p1 and not p2:\n",
    "            if m1 > 0:\n",
    "                p.next = ListNode(m1)\n",
    "            return head\n",
    "                \n",
    "        p3 = p1 if p1 else p2\n",
    "        if p3:\n",
    "            while p3:\n",
    "                m1, m2 = add(0, p3.val, m1)\n",
    "                p.next = ListNode(m2)\n",
    "                p = p.next\n",
    "                p3 = p3.next\n",
    "\n",
    "            if m1 > 0:\n",
    "                p.next = ListNode(m1)\n",
    "                p = p.next\n",
    "\n",
    "        return head\n",
    "\n",
    "    \n",
    "S = Solution()\n",
    "l1 = getListNode([2,4,3])\n",
    "l2 = getListNode([9,9,9])\n",
    "\n",
    "print(printListNode(l1))\n",
    "print(printListNode(l2))\n",
    "\n",
    "head = S.addTwoNumbers(l1, l2)\n",
    "print(printListNode(head))\n",
    "\n",
    "l1 = getListNode([9,9,9,9,9,9,9])\n",
    "l2 = getListNode([9,9,9,9])\n",
    "print(printListNode(l1))\n",
    "print(printListNode(l2))\n",
    "\n",
    "head = S.addTwoNumbers(l1, l2)\n",
    "print(printListNode(head))"
   ]
  },
  {
   "cell_type": "code",
   "execution_count": 18,
   "metadata": {},
   "outputs": [
    {
     "name": "stdout",
     "output_type": "stream",
     "text": [
      "[1, -1, 0, 0, 0]\n",
      "[-1, 1, -1, 0, 0]\n",
      "[-1, -1, 1, -1, 0]\n",
      "[-1, -1, -1, 1, -1]\n",
      "[-1, -1, -1, -1, 1]\n"
     ]
    },
    {
     "data": {
      "text/plain": [
       "1"
      ]
     },
     "execution_count": 18,
     "metadata": {},
     "output_type": "execute_result"
    }
   ],
   "source": [
    "# 无重复字符子串\n",
    "class Solution(object):\n",
    "    def lengthOfLongestSubstring(self, s):\n",
    "        \"\"\"\n",
    "        :type s: str\n",
    "        :rtype: int\n",
    "        \"\"\"\n",
    "        dp = [[-1]*len(s) for i in range(len(s))]\n",
    "        \n",
    "        max_len = -1\n",
    "        for i in range(len(s)):\n",
    "            occ = set()\n",
    "            for j in range(i, len(s)):\n",
    "                if dp[i][j] != -1:\n",
    "                    continue\n",
    "\n",
    "                if s[j] not in occ:\n",
    "                    occ.add(s[j])\n",
    "                    dp[i][j] = 1\n",
    "                    max_len = j-i+1 if (j-i+1) > max_len else max_len\n",
    "                    for k in range(i+1, j):\n",
    "                        dp[i][j] = 1\n",
    "                else:\n",
    "                    for k in range(j+1, len(s)):\n",
    "                        dp[i][k] = 0\n",
    "        \n",
    "         \n",
    "        return max_len\n",
    "            \n",
    "S = Solution()\n",
    "S.lengthOfLongestSubstring(\"bbbbb\")"
   ]
  },
  {
   "cell_type": "code",
   "execution_count": 32,
   "metadata": {},
   "outputs": [
    {
     "data": {
      "text/plain": [
       "[2, 1]"
      ]
     },
     "execution_count": 32,
     "metadata": {},
     "output_type": "execute_result"
    }
   ],
   "source": [
    "# 链表旋转k步\n",
    "class Solution(object):\n",
    "    def rotateRight(self, head, k):\n",
    "        \"\"\"\n",
    "        :type head: ListNode\n",
    "        :type k: int\n",
    "        :rtype: ListNode\n",
    "        \"\"\"\n",
    "        if k == 0 or not head:\n",
    "            return head\n",
    "        \n",
    "        def length(head):\n",
    "            p = head\n",
    "            len_of_list = 0\n",
    "            while p:\n",
    "                p = p.next\n",
    "                len_of_list += 1\n",
    "            return len_of_list\n",
    "\n",
    "        len_of_list = length(head)\n",
    "        if len_of_list == 1:\n",
    "            return head\n",
    "\n",
    "        k = len_of_list - k % len_of_list\n",
    "        if k == len_of_list:\n",
    "            return head\n",
    "        \n",
    "        step = 0\n",
    "        p = head\n",
    "        q = p\n",
    "        tail = head\n",
    "        while step < k:\n",
    "            q = p\n",
    "            p = p.next\n",
    "            step += 1\n",
    "\n",
    "        tail = p\n",
    "        while tail.next:\n",
    "            tail = tail.next\n",
    "\n",
    "        tail.next = head\n",
    "        head = p\n",
    "        q.next = None\n",
    "\n",
    "        return head\n",
    "    \n",
    "l1 = getListNode([1,2])\n",
    "S = Solution()\n",
    "head = S.rotateRight(l1, 1)\n",
    "printListNode(head)"
   ]
  },
  {
   "cell_type": "code",
   "execution_count": 3,
   "metadata": {},
   "outputs": [],
   "source": [
    "# 给定一个无重复元素的数组 candidates 和一个目标数 target ，找出 candidates 中所有可以使数字和为 target 的组合。\n",
    "\n",
    "# candidates 中的数字可以无限制重复被选取。\n",
    "\n",
    "class Solution(object):\n",
    "    def combinationSum(self, candidates, target):\n",
    "        \"\"\"\n",
    "        :type candidates: List[int]\n",
    "        :type target: int\n",
    "        :rtype: List[List[int]]\n",
    "        \"\"\"\n",
    "        res = []\n",
    "\n",
    "        def S(candidates, new_target, has_selected_li):\n",
    "            if new_target < 0:\n",
    "                return\n",
    "            \n",
    "            \n",
    "            for cand in candidates:\n",
    "                if new_target == cand:\n",
    "                    has_selected_li.append(cand)\n",
    "                    res.append(has_selected_li)\n",
    "                    return\n",
    "                else:\n",
    "                    S(candidates, new_target - cand, has_selected_li+[cand])\n",
    "        \n",
    "        candidates.sort()\n",
    "        S(candidates, target, [])\n",
    "\n",
    "        # 去重\n",
    "        d = {}\n",
    "        new_res = []\n",
    "        for r in res:\n",
    "            #r.sort()\n",
    "            key = '_'.join([str(a) for a in r])\n",
    "            if key not in d:\n",
    "                d[key] = 1\n",
    "                new_res.append(r)\n",
    "        return new_res\n",
    "\n",
    "    \n",
    "S = Solution()\n",
    "cands = [2,7,6,3,5,1]\n",
    "target = 9\n",
    "#res = S.combinationSum(cands, target)\n",
    "#print(res)\n",
    "\n",
    "cands = [2,3,5]\n",
    "target = 8\n",
    "#res = S.combinationSum(cands, target)\n",
    "#print(res)\n",
    "\n",
    "cands = [4,2,1]\n",
    "target = 32\n",
    "res = S.combinationSum(cands, target)\n",
    "print(res)\n",
    "\n"
   ]
  },
  {
   "cell_type": "code",
   "execution_count": null,
   "metadata": {},
   "outputs": [],
   "source": []
  },
  {
   "cell_type": "code",
   "execution_count": 3,
   "metadata": {},
   "outputs": [
    {
     "name": "stdout",
     "output_type": "stream",
     "text": [
      "[[1, 1, 6], [1, 2, 5], [1, 7], [2, 6]]\n"
     ]
    }
   ],
   "source": [
    "# 给定一个数组 candidates 和一个目标数 target ，找出 candidates 中所有可以使数字和为 target 的组合。\n",
    "\n",
    "# candidates 中的每个数字在每个组合中只能使用一次。\n",
    "class Solution(object):\n",
    "    def combinationSum2(self, candidates, target):\n",
    "        \"\"\"\n",
    "        :type candidates: List[int]\n",
    "        :type target: int\n",
    "        :rtype: List[List[int]]\n",
    "        \"\"\"\n",
    "        res = []\n",
    "        def S(candidates, new_target, has_selected_li):\n",
    "            if new_target < 0:\n",
    "                    return\n",
    "    \n",
    "            for i in range(len(candidates)):\n",
    "                cand = candidates[i]\n",
    "                if new_target == cand:\n",
    "                    if i not in has_selected_li:\n",
    "                        has_selected_li.append(i)\n",
    "                        res.append(has_selected_li)\n",
    "                    return\n",
    "                \n",
    "                if i not in has_selected_li:\n",
    "                    S(candidates, new_target - cand, has_selected_li+[i])\n",
    "\n",
    "        candidates.sort()\n",
    "        S(candidates, target, [])\n",
    "\n",
    "        # 去重\n",
    "        d = {}\n",
    "        new_res = []\n",
    "        for r in res:\n",
    "            r = [candidates[a] for a in r]\n",
    "            r.sort()\n",
    "            key = '_'.join([str(a) for a in r])\n",
    "            if key not in d:\n",
    "                d[key] = 1\n",
    "                new_res.append(r)\n",
    "        return new_res\n",
    "  \n",
    "S = Solution()\n",
    "'''\n",
    "cands = [2,7,6,3,5,1]\n",
    "target = 9\n",
    "res = S.combinationSum2(cands, target)\n",
    "print(res)'''\n",
    "\n",
    "cands = [10,1,2,7,6,1,5]\n",
    "target = 8\n",
    "res = S.combinationSum2(cands, target)\n",
    "print(res)\n",
    "# expected [[1,1,6],[1,2,5],[1,7],[1,2,5],[1,7],[2,6]]\n"
   ]
  },
  {
   "cell_type": "code",
   "execution_count": 8,
   "metadata": {},
   "outputs": [
    {
     "name": "stdout",
     "output_type": "stream",
     "text": [
      "[[1, 2, 6], [1, 3, 5], [2, 3, 4]]\n"
     ]
    }
   ],
   "source": [
    "# 找出所有相加之和为 n 的 k 个数的组合。组合中只允许含有 1 - 9 的正整数，并且每种组合中不存在重复的数字。\n",
    "# 说明：\n",
    "# 所有数字都是正整数。\n",
    "# 解集不能包含重复的组合。 \n",
    "\n",
    "class Solution(object):\n",
    "    def combinationSum2(self, candidates, target):\n",
    "        \"\"\"\n",
    "        :type candidates: List[int]\n",
    "        :type target: int\n",
    "        :rtype: List[List[int]]\n",
    "        \"\"\"\n",
    "        res = []\n",
    "        def S(candidates, new_target, has_selected_li):\n",
    "            if new_target < 0:\n",
    "                    return\n",
    "    \n",
    "            for i in range(len(candidates)):\n",
    "                cand = candidates[i]\n",
    "                if new_target == cand:\n",
    "                    if i not in has_selected_li:\n",
    "                        has_selected_li.append(i)\n",
    "                        res.append(has_selected_li)\n",
    "                    return\n",
    "                \n",
    "                if i not in has_selected_li:\n",
    "                    S(candidates, new_target - cand, has_selected_li+[i])\n",
    "\n",
    "        candidates.sort()\n",
    "        S(candidates, target, [])\n",
    "\n",
    "        # 去重\n",
    "        d = {}\n",
    "        new_res = []\n",
    "        for r in res:\n",
    "            r = [candidates[a] for a in r]\n",
    "            r.sort()\n",
    "            key = '_'.join([str(a) for a in r])\n",
    "            if key not in d:\n",
    "                d[key] = 1\n",
    "                new_res.append(r)\n",
    "        return new_res\n",
    "    \n",
    "    def combinationSum3(self, k, n):\n",
    "        \"\"\"\n",
    "        :type k: int\n",
    "        :type n: int\n",
    "        :rtype: List[List[int]]\n",
    "        \"\"\"\n",
    "        res = self.combinationSum2([1,2,3,4,5,6,7,8,9], n)\n",
    "        final_res = []\n",
    "        for r in res:\n",
    "            if len(r) == k:\n",
    "                final_res.append(r)\n",
    "        return final_res\n",
    "                \n",
    "S = Solution()\n",
    "res = S.combinationSum3(3, 9)\n",
    "print(res)\n"
   ]
  },
  {
   "cell_type": "code",
   "execution_count": null,
   "metadata": {},
   "outputs": [],
   "source": [
    "# 给定一个含有 n 个正整数的数组和一个正整数 s ，\n",
    "# 找出该数组中满足其和 ≥ s 的长度最小的 连续 子数组，并返回其长度。如果不存在符合条件的子数组，返回 0。\n",
    "\n"
   ]
  },
  {
   "cell_type": "code",
   "execution_count": null,
   "metadata": {},
   "outputs": [],
   "source": [
    "# 给定一个整数数组 nums，其中恰好有两个元素只出现一次，其余所有元素均出现两次。 找出只出现一次的那两个元素\n",
    "\n",
    "data = [1,2,5,2,1,3]\n",
    "\n"
   ]
  },
  {
   "cell_type": "code",
   "execution_count": 57,
   "metadata": {},
   "outputs": [
    {
     "name": "stdout",
     "output_type": "stream",
     "text": [
      "[[1, 1, 4]]\n",
      "114\n"
     ]
    }
   ],
   "source": [
    "# 给定两个以字符串形式表示的非负整数 num1 和 num2，返回 num1 和 num2 的乘积，它们的乘积也表示为字符串形式。\n",
    "\n",
    "\n",
    "def mul1(m,n, m1):\n",
    "    return int((int(m)*int(n)+m1) / 10), (int(m)*int(n)+m1) % 10\n",
    "\n",
    "def mul2(num, n, p10=0):\n",
    "    res = []\n",
    "    m1, m2 = 0, 0\n",
    "    for i in range(len(num)-1, -1, -1):\n",
    "        m1, m2 = mul1(num[i],n, m1)\n",
    "        res.append(m2)\n",
    "    if m1 != 0:\n",
    "        res.append(m1)\n",
    "    \n",
    "    res.reverse()\n",
    "    for i in range(p10):\n",
    "        res.append(0)\n",
    "    return res\n",
    "\n",
    "def add(li1, li2):\n",
    "    def add_(m,n,m1):\n",
    "        return int((int(m)+int(n)+m1) / 10), (int(m)+int(n)+m1) % 10\n",
    "    \n",
    "    res = []\n",
    "    m1, m2 = 0, 0\n",
    "    min_len = min(len(li1), len(li2))\n",
    "    i = len(li1) - 1\n",
    "    j = len(li2) - 1\n",
    "    for _ in range(min_len):\n",
    "        m1, m2 = add_(li1[i], li2[j], m1)\n",
    "        res.append(m2)\n",
    "        i -= 1\n",
    "        j -= 1\n",
    "        if i < 0 or j < 0:\n",
    "            break\n",
    "    \n",
    "    if len(li1) == len(li2):\n",
    "        if m1 != 0:\n",
    "            res.append(m1)\n",
    "        res.reverse()\n",
    "        return res\n",
    "\n",
    "    p, cur_idx = (li1, len(li1)-len(li2)-1) if len(li1)> len(li2) else (li2, len(li2)-len(li1)-1)\n",
    "    for i in range(cur_idx, -1, -1):\n",
    "        m1, m2 = add_(p[i],0,m1)\n",
    "        res.append(m2)\n",
    "    \n",
    "    print(res, m1)\n",
    "    if m1 != 0:\n",
    "        res.append(m1)\n",
    "    res.reverse()\n",
    "    return res\n",
    "    \n",
    "    \n",
    "class Solution(object):\n",
    "    def multiply(self, num1, num2):\n",
    "        \"\"\"\n",
    "        :type num1: str\n",
    "        :type num2: str\n",
    "        :rtype: str\n",
    "        \"\"\"\n",
    "        if len(num1) == 1 and num1[0] == '0':\n",
    "            return \"0\"\n",
    "\n",
    "        if len(num2) == 1 and num2[0] == '0':\n",
    "            return \"0\"\n",
    "        \n",
    "        ress = []\n",
    "        p,q = (num1,num2) if len(num1) < len(num2) else (num2,num1)\n",
    "        for i in range(len(p)-1, -1, -1):\n",
    "            res = mul2(q, p[i], (len(p)-1)-i)\n",
    "            ress.append(res)\n",
    "        \n",
    "        print(ress)\n",
    "        final_res = ress[0]\n",
    "        for res in ress[1:]:\n",
    "            final_res = add(final_res, res)\n",
    "        \n",
    "        final_res = [str(a) for a in final_res]   \n",
    "        return ''.join(final_res)\n",
    "            \n",
    "    \n",
    "     \n",
    "#mul2('123', '5', 1)\n",
    "#add([6, 1, 5], [6, 1, 5, 0])\n",
    "\n",
    "S = Solution()\n",
    "#res = S.multiply('12345', '45600'*5)\n",
    "#print(res)\n",
    "\n",
    "res = S.multiply('3', '38')\n",
    "print(res)"
   ]
  },
  {
   "cell_type": "code",
   "execution_count": 59,
   "metadata": {},
   "outputs": [
    {
     "name": "stdout",
     "output_type": "stream",
     "text": [
      "28\n"
     ]
    }
   ],
   "source": [
    "# 一个机器人位于一个 m x n 网格的左上角 （起始点在下图中标记为 “Start” ）。\n",
    "\n",
    "# 机器人每次只能向下或者向右移动一步。机器人试图达到网格的右下角（在下图中标记为 “Finish” ）。\n",
    "\n",
    "# 问总共有多少条不同的路径？\n",
    "\n",
    "class Solution(object):\n",
    "    def uniquePaths(self, m, n):\n",
    "        \"\"\"\n",
    "        :type m: int\n",
    "        :type n: int\n",
    "        :rtype: int\n",
    "        \"\"\"\n",
    "        dp = [[0]*n for i in range(m)] # m X n\n",
    "\n",
    "        dp[0][0] = 0\n",
    "\n",
    "\n",
    "        for j in range(n):\n",
    "            dp[0][j] = 1\n",
    "\n",
    "        for j in range(m):\n",
    "            dp[j][0] = 1\n",
    "\n",
    "        for i in range(1, m):\n",
    "            for j in range(1, n):\n",
    "                dp[i][j] = dp[i-1][j] + dp[i][j-1]\n",
    "        \n",
    "        return dp[m-1][n-1]\n",
    "    \n",
    "S = Solution()\n",
    "m = 3\n",
    "n = 7\n",
    "res = S.uniquePaths(m, n)\n",
    "print(res)"
   ]
  },
  {
   "cell_type": "code",
   "execution_count": 70,
   "metadata": {},
   "outputs": [
    {
     "name": "stdout",
     "output_type": "stream",
     "text": [
      "[[0, 0], [1, 1]]\n",
      "1\n",
      "[[0, 1]]\n",
      "1\n",
      "[[0, 0, 0, 0], [1, 1, 1, 1], [1, 2, 3, 0], [1, 3, 0, 0]]\n",
      "0\n",
      "[[0, 0, 0, 0, 0], [0, 0, 0, 0, 0], [0, 0, 0, 0, 0], [0, 0, 0, 0, 0]]\n",
      "0\n"
     ]
    }
   ],
   "source": [
    "# 一个机器人位于一个 m x n 网格的左上角 （起始点在下图中标记为“Start” ）。\n",
    "\n",
    "# 机器人每次只能向下或者向右移动一步。机器人试图达到网格的右下角（在下图中标记为“Finish”）。\n",
    "\n",
    "# 现在考虑网格中有障碍物。那么从左上角到右下角将会有多少条不同的路径？\n",
    "class Solution(object):\n",
    "    def uniquePathsWithObstacles(self, obstacleGrid):\n",
    "        \"\"\"\n",
    "        :type obstacleGrid: List[List[int]]\n",
    "        :rtype: int\n",
    "        \"\"\"\n",
    "        m = len(obstacleGrid)\n",
    "        n = len(obstacleGrid[0])\n",
    "        dp = [[0]*n for i in range(m)] # m X n\n",
    "        dp[0][0] = 0\n",
    "\n",
    "        for j in range(1, n):\n",
    "            if obstacleGrid[0][j] == 1:\n",
    "                dp[0][j] = 0\n",
    "                for k in range(j+1, n):\n",
    "                    dp[0][k] = 0\n",
    "                break\n",
    "            else:\n",
    "                dp[0][j] = 1\n",
    "\n",
    "        for j in range(1, m):\n",
    "            if obstacleGrid[j][0] == 1:\n",
    "                dp[j][0] = 0\n",
    "                for k in range(j+1, m):\n",
    "                    dp[k][0] = 0\n",
    "                break\n",
    "            else:\n",
    "                dp[j][0] = 1\n",
    "        \n",
    "                    \n",
    "        for i in range(1, m):\n",
    "            for j in range(1, n):\n",
    "                if obstacleGrid[i][j] == 1:\n",
    "                    dp[i][j] = 0\n",
    "                if obstacleGrid[i][j] == 0:\n",
    "                    dp[i][j] = dp[i-1][j] + dp[i][j-1]\n",
    "        \n",
    "        print(dp)\n",
    "        return dp[m-1][n-1]\n",
    "    \n",
    "        \n",
    "S = Solution()\n",
    "obstacleGrid = [[0,1],[0,0]]\n",
    "res = S.uniquePathsWithObstacles(obstacleGrid)\n",
    "print(res)\n",
    "\n",
    "obstacleGrid = [[1,0]]\n",
    "res = S.uniquePathsWithObstacles(obstacleGrid)\n",
    "print(res)\n",
    "\n",
    "obstacleGrid = [\n",
    "    [0,1,0,0],\n",
    "    [0,0,0,0],\n",
    "    [0,0,0,1],\n",
    "    [0,0,1,0]\n",
    "]\n",
    "res = S.uniquePathsWithObstacles(obstacleGrid)\n",
    "print(res)\n",
    "\n",
    "obstacleGrid = [\n",
    "    [0,1,0,0,0],\n",
    "    [1,0,0,0,0],\n",
    "    [0,0,0,0,0],\n",
    "    [0,0,0,0,0]\n",
    "]\n",
    "res = S.uniquePathsWithObstacles(obstacleGrid)\n",
    "print(res)"
   ]
  },
  {
   "cell_type": "code",
   "execution_count": null,
   "metadata": {},
   "outputs": [],
   "source": [
    "# 已知一随机发生器，产生0的概率是p，产生1的概率是1-p，现在要你构造一个发生器，使得它构造0和1的概率均为1/2；\n",
    "\n",
    "# 构造一个发生器，使得它构造1、2、3的概率均为1/3；…， \n",
    "# 构造一个发生器，使得它构造1、2、3、…n的概率均为1/n，要求复杂度最低。\n"
   ]
  },
  {
   "cell_type": "code",
   "execution_count": 86,
   "metadata": {},
   "outputs": [
    {
     "data": {
      "text/plain": [
       "30150"
      ]
     },
     "execution_count": 86,
     "metadata": {},
     "output_type": "execute_result"
    }
   ],
   "source": [
    "150*(4*50+1)"
   ]
  },
  {
   "cell_type": "code",
   "execution_count": 93,
   "metadata": {},
   "outputs": [
    {
     "data": {
      "text/plain": [
       "568852"
      ]
     },
     "execution_count": 93,
     "metadata": {},
     "output_type": "execute_result"
    }
   ],
   "source": [
    "150*(2*50+1 + 3*50+1 + 4*50+1) + (450+1)*2 + 10000*50"
   ]
  },
  {
   "cell_type": "code",
   "execution_count": 89,
   "metadata": {},
   "outputs": [
    {
     "data": {
      "text/plain": [
       "901"
      ]
     },
     "execution_count": 89,
     "metadata": {},
     "output_type": "execute_result"
    }
   ],
   "source": [
    "450*2+1"
   ]
  },
  {
   "cell_type": "code",
   "execution_count": null,
   "metadata": {},
   "outputs": [],
   "source": []
  }
 ],
 "metadata": {
  "kernelspec": {
   "display_name": "Python 3",
   "language": "python",
   "name": "python3"
  },
  "language_info": {
   "codemirror_mode": {
    "name": "ipython",
    "version": 3
   },
   "file_extension": ".py",
   "mimetype": "text/x-python",
   "name": "python",
   "nbconvert_exporter": "python",
   "pygments_lexer": "ipython3",
   "version": "3.6.5"
  }
 },
 "nbformat": 4,
 "nbformat_minor": 2
}
