{
 "cells": [
  {
   "cell_type": "code",
   "execution_count": 1,
   "metadata": {},
   "outputs": [],
   "source": [
    "import os\n",
    "import sys"
   ]
  },
  {
   "cell_type": "code",
   "execution_count": 56,
   "metadata": {},
   "outputs": [],
   "source": [
    "# 堆排序\n",
    "def left(i):\n",
    "    return 2 * (i + 1) - 1\n",
    "\n",
    "def right(i):\n",
    "    return 2 * (i + 1)\n",
    "\n",
    "def parent():\n",
    "    return (i + 1) * 2 - 1\n",
    "\n",
    "def max_heapify(A, i):\n",
    "    # 根节点为i的堆调整\n",
    "    l, r = left(i), right(i)\n",
    "    largest = i\n",
    "    if l < len(A) and A[l] > A[largest]:\n",
    "        largest = l\n",
    "    if r < len(A) and A[r] > A[largest]:\n",
    "        largest = r\n",
    "        \n",
    "    if largest != i:\n",
    "        A[largest], A[i] = A[i], A[largest]\n",
    "        max_heapify(A, largest)\n",
    "\n",
    "def build_max_heap(A):\n",
    "    i = int(len(A) / 2) - 1\n",
    "    while i >= 0:\n",
    "        max_heapify(A, i)\n",
    "        i -= 1\n",
    "        \n",
    "def head_sort(A):\n",
    "    result = []\n",
    "    build_max_heap(A)\n",
    "    while len(A) > 1:\n",
    "        result.append(A[0])\n",
    "        A[0], A[len(A)-1] = A[len(A)-1], A[0]\n",
    "        A = A[:-1]\n",
    "        max_heapify(A, 0)\n",
    "    result.extend(A)\n",
    "    return result\n",
    "\n"
   ]
  },
  {
   "cell_type": "code",
   "execution_count": 22,
   "metadata": {},
   "outputs": [
    {
     "name": "stdout",
     "output_type": "stream",
     "text": [
      "[5, 4, 3, 2, 1]\n"
     ]
    }
   ],
   "source": [
    "A = [1,2,3,4,5]\n",
    "build_max_heap(A)\n",
    "\n",
    "result = head_sort(A)\n",
    "\n",
    "print(result)"
   ]
  },
  {
   "cell_type": "code",
   "execution_count": 26,
   "metadata": {},
   "outputs": [
    {
     "name": "stdout",
     "output_type": "stream",
     "text": [
      "0 2 4\n",
      "2\n"
     ]
    }
   ],
   "source": [
    "# 二分查找\n",
    "def binary_search(nums: list, n: int)->int:\n",
    "    left = 0\n",
    "    right = len(nums) - 1\n",
    "    while left <= right:\n",
    "        mid = int(left + (right-left) / 2)\n",
    "        if nums[mid] < n:\n",
    "            left = mid + 1\n",
    "        elif nums[mid] > n:\n",
    "            right = mid -1 \n",
    "        elif nums[mid] == n:\n",
    "            return mid \n",
    "    return -1\n",
    "\n",
    "A = [1,2,3,4,5]\n",
    "idx = binary_search(A, 3)\n",
    "print(idx)"
   ]
  },
  {
   "cell_type": "code",
   "execution_count": 1,
   "metadata": {},
   "outputs": [
    {
     "name": "stdout",
     "output_type": "stream",
     "text": [
      "[1, 1, 2, 2, 3, 4, 4, 4, 5]\n"
     ]
    }
   ],
   "source": [
    "# 快速排序\n",
    "def qsort(arr, left, right):\n",
    "    if left < right and left < len(A) and right < len(A):\n",
    "        part_idx = partition(arr, left, right)\n",
    "        qsort(arr, left+1, part_idx)\n",
    "        qsort(arr, part_idx+1, right)\n",
    "    return arr\n",
    "\n",
    "def swap(arr, i, j):\n",
    "    arr[i], arr[j] = arr[j], arr[i]\n",
    "\n",
    "def partition(arr, left, right):\n",
    "    pivot = arr[left]\n",
    "    index = left # 最小的不大于pivot的数值的位置\n",
    "    for i in range(left+1, right+1):\n",
    "        if arr[i] <= pivot: # i：新发现的不大于pivot的数值的位置\n",
    "            index += 1 # 比pivot大的数字位置\n",
    "            swap(arr, i, index) # 小的往前，大的往后\n",
    "    if index != left:\n",
    "        swap(arr, left, index)\n",
    "    return index\n",
    "\n",
    "A = [1,2,2,1,3,5,4,4,4]\n",
    "qsort(A, 0, len(A)-1)\n",
    "\n",
    "print(A)"
   ]
  },
  {
   "cell_type": "code",
   "execution_count": 51,
   "metadata": {},
   "outputs": [
    {
     "name": "stdout",
     "output_type": "stream",
     "text": [
      "[1, 1, 2, 2, 3, 4, 4, 4, 5]\n"
     ]
    }
   ],
   "source": [
    "# 选择排序\n",
    "def min_idx(arr, i):\n",
    "    min_indx = i\n",
    "    cur_min = arr[i]\n",
    "    for i in range(i+1, len(arr)):\n",
    "        if arr[i] < cur_min:\n",
    "            cur_min = arr[i]\n",
    "            min_indx = i\n",
    "    return min_indx\n",
    "\n",
    "def selectionSort(arr):\n",
    "    for i in range(0, len(arr)):\n",
    "        idx = min_idx(arr, i) # 序列arr[i:]的最小值的位置\n",
    "        if idx != i:\n",
    "            swap(arr, i, idx)\n",
    "    return arr\n",
    "\n",
    "A = [1,2,2,1,3,5,4,4,4]\n",
    "selectionSort(A)\n",
    "print(A)"
   ]
  },
  {
   "cell_type": "code",
   "execution_count": 61,
   "metadata": {},
   "outputs": [
    {
     "name": "stdout",
     "output_type": "stream",
     "text": [
      "[4, 3, 1, 2]\n",
      "[1, 2, 3, 4]\n"
     ]
    }
   ],
   "source": [
    "# 题目描述\n",
    "# 输入n个整数，找出其中最小的K个数。例如输入4,5,1,6,2,7,3,8这8个数字，则最小的4个数字是1,2,3,4。\n",
    "\n",
    "class Solution:\n",
    "    def GetLeastNumbers_Solution(self, tinput, k):\n",
    "        # write code here\n",
    "        k_max_heap = tinput[:k]\n",
    "        build_max_heap(k_max_heap)\n",
    "        for i in range(k, len(tinput)):\n",
    "            if tinput[i] < k_max_heap[0]:\n",
    "                k_max_heap[0] = tinput[i]\n",
    "                build_max_heap(k_max_heap)\n",
    "                \n",
    "        return (k_max_heap)\n",
    "    \n",
    "A = [4,5,1,6,2,7,3,8]\n",
    "S = Solution()\n",
    "k_max_heap = S.GetLeastNumbers_Solution(A, 4)\n",
    "print(k_max_heap)\n",
    "\n",
    "res = head_sort(k_max_heap)\n",
    "res.reverse()\n",
    "print(res)"
   ]
  },
  {
   "cell_type": "code",
   "execution_count": 11,
   "metadata": {},
   "outputs": [
    {
     "name": "stdout",
     "output_type": "stream",
     "text": [
      "[2, -1, 2]\n",
      "[5, 6, 6, 8, -1]\n"
     ]
    }
   ],
   "source": [
    "# 给定一个循环数组（最后一个元素的下一个元素是数组的第一个元素），输出每个元素的下一个更大元素。\n",
    "# 数字 x 的下一个更大的元素是按数组遍历顺序，这个数字之后的第一个比它更大的数，\n",
    "# 这意味着你应该循环地搜索它的下一个更大的数。如果不存在，则输出 -1。\n",
    "class Solution(object):\n",
    "    def nextGreaterElements(self, nums):\n",
    "        # 这里只需要考虑遍历两遍数组即可\n",
    "        ans = [-1]*len(nums)\n",
    "        stack = []\n",
    "        for i in range(len(nums)):\n",
    "            while len(stack)>0 and nums[i] > nums[stack[-1]]:\n",
    "                ans[stack.pop(-1)] = nums[i]\n",
    "            stack.append(i)\n",
    "        \n",
    "        # 再扫描一次，处理stack中剩下的，看能否在前面找到更大的元素\n",
    "        for i in range(len(nums)):\n",
    "            while len(stack)>0 and nums[i] > nums[stack[-1]]:\n",
    "                ans[stack.pop(-1)] = nums[i]\n",
    "        \n",
    "        while len(stack)>0:\n",
    "            ans[stack.pop(-1)] = -1\n",
    "        \n",
    "        return ans\n",
    "    \n",
    "S = Solution()\n",
    "res = S.nextGreaterElements([1,2,1])\n",
    "print(res)\n",
    "\n",
    "nums = [1,5,3,6,8]\n",
    "res = S.nextGreaterElements(nums)\n",
    "print(res) # expected [5,6,6,8,-1]\n",
    "        "
   ]
  },
  {
   "cell_type": "code",
   "execution_count": 13,
   "metadata": {},
   "outputs": [
    {
     "name": "stdout",
     "output_type": "stream",
     "text": [
      "fl\n"
     ]
    }
   ],
   "source": [
    "# 编写一个函数来查找字符串数组中的最长公共前缀。\n",
    "\n",
    "# 如果不存在公共前缀，返回空字符串 \"\"。\n",
    "\n",
    "class Solution(object):\n",
    "    def longestCommonPrefix(self, strs):\n",
    "        \"\"\"\n",
    "        :type strs: List[str]\n",
    "        :rtype: str\n",
    "        \"\"\"\n",
    "        def S(s1, s2):\n",
    "            i, j = 0, 0\n",
    "            s = []\n",
    "            while i < len(s1) and j < len(s2) and s1[i] == s2[j]:\n",
    "                s.append(s1[i])\n",
    "                i += 1\n",
    "                j += 1\n",
    "                \n",
    "            return ''.join(s)\n",
    "        \n",
    "        s0 = strs[0]\n",
    "        for i in range(1, len(strs)):\n",
    "            s = S(s0, strs[i])\n",
    "            if not s:\n",
    "                return ''\n",
    "            else:\n",
    "                s0 = s\n",
    "        return s0\n",
    "    \n",
    "S = Solution()\n",
    "res = S.longestCommonPrefix([\"flower\",\"flow\",\"flight\"])\n",
    "print(res)"
   ]
  },
  {
   "cell_type": "code",
   "execution_count": null,
   "metadata": {},
   "outputs": [],
   "source": []
  }
 ],
 "metadata": {
  "kernelspec": {
   "display_name": "Python 3",
   "language": "python",
   "name": "python3"
  },
  "language_info": {
   "codemirror_mode": {
    "name": "ipython",
    "version": 3
   },
   "file_extension": ".py",
   "mimetype": "text/x-python",
   "name": "python",
   "nbconvert_exporter": "python",
   "pygments_lexer": "ipython3",
   "version": "3.6.5"
  }
 },
 "nbformat": 4,
 "nbformat_minor": 2
}
