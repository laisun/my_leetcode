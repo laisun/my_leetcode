{
 "cells": [
  {
   "cell_type": "code",
   "execution_count": 1,
   "metadata": {},
   "outputs": [],
   "source": [
    "import os\n",
    "import sys"
   ]
  },
  {
   "cell_type": "code",
   "execution_count": 56,
   "metadata": {},
   "outputs": [],
   "source": [
    "# 堆排序\n",
    "def left(i):\n",
    "    return 2 * (i + 1) - 1\n",
    "\n",
    "def right(i):\n",
    "    return 2 * (i + 1)\n",
    "\n",
    "def parent():\n",
    "    return (i + 1) * 2 - 1\n",
    "\n",
    "def max_heapify(A, i):\n",
    "    # 根节点为i的堆调整\n",
    "    l, r = left(i), right(i)\n",
    "    largest = i\n",
    "    if l < len(A) and A[l] > A[largest]:\n",
    "        largest = l\n",
    "    if r < len(A) and A[r] > A[largest]:\n",
    "        largest = r\n",
    "        \n",
    "    if largest != i:\n",
    "        A[largest], A[i] = A[i], A[largest]\n",
    "        max_heapify(A, largest)\n",
    "\n",
    "def build_max_heap(A):\n",
    "    i = int(len(A) / 2) - 1\n",
    "    while i >= 0:\n",
    "        max_heapify(A, i)\n",
    "        i -= 1\n",
    "        \n",
    "def head_sort(A):\n",
    "    result = []\n",
    "    build_max_heap(A)\n",
    "    while len(A) > 1:\n",
    "        result.append(A[0])\n",
    "        A[0], A[len(A)-1] = A[len(A)-1], A[0]\n",
    "        A = A[:-1]\n",
    "        max_heapify(A, 0)\n",
    "    result.extend(A)\n",
    "    return result\n",
    "\n"
   ]
  },
  {
   "cell_type": "code",
   "execution_count": 22,
   "metadata": {},
   "outputs": [
    {
     "name": "stdout",
     "output_type": "stream",
     "text": [
      "[5, 4, 3, 2, 1]\n"
     ]
    }
   ],
   "source": [
    "A = [1,2,3,4,5]\n",
    "build_max_heap(A)\n",
    "\n",
    "result = head_sort(A)\n",
    "\n",
    "print(result)"
   ]
  },
  {
   "cell_type": "code",
   "execution_count": 26,
   "metadata": {},
   "outputs": [
    {
     "name": "stdout",
     "output_type": "stream",
     "text": [
      "0 2 4\n",
      "2\n"
     ]
    }
   ],
   "source": [
    "# 二分查找\n",
    "def binary_search(nums: list, n: int)->int:\n",
    "    left = 0\n",
    "    right = len(nums) - 1\n",
    "    while left <= right:\n",
    "        mid = int(left + (right-left) / 2)\n",
    "        if nums[mid] < n:\n",
    "            left = mid + 1\n",
    "        elif nums[mid] > n:\n",
    "            right = mid -1 \n",
    "        elif nums[mid] == n:\n",
    "            return mid \n",
    "    return -1\n",
    "\n",
    "A = [1,2,3,4,5]\n",
    "idx = binary_search(A, 3)\n",
    "print(idx)"
   ]
  },
  {
   "cell_type": "code",
   "execution_count": 50,
   "metadata": {},
   "outputs": [
    {
     "name": "stdout",
     "output_type": "stream",
     "text": [
      "[1, 1, 2, 2, 3, 4, 4, 4, 5]\n"
     ]
    }
   ],
   "source": [
    "# 快速排序\n",
    "def qsort(arr, left, right):\n",
    "    if left < right and left < len(A) and right < len(A):\n",
    "        part_idx = partition(arr, left, right)\n",
    "        qsort(arr, left+1, part_idx)\n",
    "        qsort(arr, part_idx+1, right)\n",
    "    return arr\n",
    "\n",
    "def swap(arr, i, j):\n",
    "    arr[i], arr[j] = arr[j], arr[i]\n",
    "\n",
    "def partition(arr, left, right):\n",
    "    pivot = arr[left]\n",
    "    index = left # 最小的不大于pivot的数值的位置\n",
    "    for i in range(left+1, right+1):\n",
    "        if arr[i] <= pivot: # i：新发现的不大于pivot的数值的位置\n",
    "            index += 1 # 比pivot大的数字位置\n",
    "            swap(arr, i, index) # 小的往前，大的往后\n",
    "    if index != left:\n",
    "        swap(arr, left, index)\n",
    "    return index\n",
    "\n",
    "A = [1,2,2,1,3,5,4,4,4]\n",
    "qsort(A, 0, len(A)-1)\n",
    "\n",
    "print(A)"
   ]
  },
  {
   "cell_type": "code",
   "execution_count": 51,
   "metadata": {},
   "outputs": [
    {
     "name": "stdout",
     "output_type": "stream",
     "text": [
      "[1, 1, 2, 2, 3, 4, 4, 4, 5]\n"
     ]
    }
   ],
   "source": [
    "# 选择排序\n",
    "def min_idx(arr, i):\n",
    "    min_indx = i\n",
    "    cur_min = arr[i]\n",
    "    for i in range(i+1, len(arr)):\n",
    "        if arr[i] < cur_min:\n",
    "            cur_min = arr[i]\n",
    "            min_indx = i\n",
    "    return min_indx\n",
    "\n",
    "def selectionSort(arr):\n",
    "    for i in range(0, len(arr)):\n",
    "        idx = min_idx(arr, i) # 序列arr[i:]的最小值的位置\n",
    "        if idx != i:\n",
    "            swap(arr, i, idx)\n",
    "    return arr\n",
    "\n",
    "A = [1,2,2,1,3,5,4,4,4]\n",
    "selectionSort(A)\n",
    "print(A)"
   ]
  },
  {
   "cell_type": "code",
   "execution_count": 60,
   "metadata": {},
   "outputs": [
    {
     "name": "stdout",
     "output_type": "stream",
     "text": [
      "[4, 3, 1, 2]\n",
      "[1, 2, 3, 4]\n"
     ]
    }
   ],
   "source": [
    "# 题目描述\n",
    "# 输入n个整数，找出其中最小的K个数。例如输入4,5,1,6,2,7,3,8这8个数字，则最小的4个数字是1,2,3,4。\n",
    "\n",
    "class Solution:\n",
    "    def GetLeastNumbers_Solution(self, tinput, k):\n",
    "        # write code here\n",
    "        k_max_heap = tinput[:k]\n",
    "        build_max_heap(k_max_heap)\n",
    "        for i in range(k, len(tinput)):\n",
    "            if tinput[i] < k_max_heap[0]:\n",
    "                k_max_heap[0] = tinput[i]\n",
    "                build_max_heap(k_max_heap)\n",
    "                \n",
    "        return (k_max_heap)\n",
    "    \n",
    "A = [4,5,1,6,2,7,3,8]\n",
    "S = Solution()\n",
    "k_max_heap = S.GetLeastNumbers_Solution(A, 4)\n",
    "print(k_max_heap)\n",
    "\n",
    "res = head_sort(k_max_heap)\n",
    "res.reverse()\n",
    "print(res)"
   ]
  },
  {
   "cell_type": "code",
   "execution_count": null,
   "metadata": {},
   "outputs": [],
   "source": []
  }
 ],
 "metadata": {
  "kernelspec": {
   "display_name": "Python 3",
   "language": "python",
   "name": "python3"
  },
  "language_info": {
   "codemirror_mode": {
    "name": "ipython",
    "version": 3
   },
   "file_extension": ".py",
   "mimetype": "text/x-python",
   "name": "python",
   "nbconvert_exporter": "python",
   "pygments_lexer": "ipython3",
   "version": "3.6.5"
  }
 },
 "nbformat": 4,
 "nbformat_minor": 2
}
